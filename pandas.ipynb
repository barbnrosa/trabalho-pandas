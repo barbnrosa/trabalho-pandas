{
 "cells": [
  {
   "cell_type": "markdown",
   "metadata": {},
   "source": [
    "## Trabalho Linguagens de Programação - Biblioteca Pandas"
   ]
  },
  {
   "cell_type": "markdown",
   "metadata": {},
   "source": [
    "Alunos: Barbara Rosa, Bruno Chimentão, Gabriel Vieira, Marcos Cemim"
   ]
  },
  {
   "cell_type": "markdown",
   "metadata": {},
   "source": [
    "        - O Pandas é uma biblioteca de software livre para a linguagem de programação Python, projetada para facilitar a manipulação e análise de dados.\n",
    "\n",
    "        - É construído sobre a biblioteca NumPy e fornece estruturas de dados fáceis de usar, como Series e DataFrame, que são essenciais para lidar com dados tabulares."
   ]
  },
  {
   "cell_type": "code",
   "execution_count": 2,
   "metadata": {},
   "outputs": [
    {
     "name": "stdout",
     "output_type": "stream",
     "text": [
      "Requirement already satisfied: pandas in c:\\users\\barbn\\appdata\\local\\programs\\python\\python312\\lib\\site-packages (2.1.3)\n",
      "Requirement already satisfied: numpy<2,>=1.26.0 in c:\\users\\barbn\\appdata\\local\\programs\\python\\python312\\lib\\site-packages (from pandas) (1.26.2)\n",
      "Requirement already satisfied: python-dateutil>=2.8.2 in c:\\users\\barbn\\appdata\\roaming\\python\\python312\\site-packages (from pandas) (2.8.2)\n",
      "Requirement already satisfied: pytz>=2020.1 in c:\\users\\barbn\\appdata\\local\\programs\\python\\python312\\lib\\site-packages (from pandas) (2023.3.post1)\n",
      "Requirement already satisfied: tzdata>=2022.1 in c:\\users\\barbn\\appdata\\local\\programs\\python\\python312\\lib\\site-packages (from pandas) (2023.3)\n",
      "Requirement already satisfied: six>=1.5 in c:\\users\\barbn\\appdata\\roaming\\python\\python312\\site-packages (from python-dateutil>=2.8.2->pandas) (1.16.0)\n",
      "Note: you may need to restart the kernel to use updated packages.\n"
     ]
    },
    {
     "name": "stderr",
     "output_type": "stream",
     "text": [
      "\n",
      "[notice] A new release of pip is available: 23.2.1 -> 23.3.1\n",
      "[notice] To update, run: python.exe -m pip install --upgrade pip\n"
     ]
    }
   ],
   "source": [
    "# Baixando a biblioteca pandas\n",
    "%pip install pandas"
   ]
  },
  {
   "cell_type": "code",
   "execution_count": 3,
   "metadata": {},
   "outputs": [],
   "source": [
    "# Importando a biblioteca pandas\n",
    "import pandas as pd"
   ]
  },
  {
   "cell_type": "code",
   "execution_count": 5,
   "metadata": {},
   "outputs": [
    {
     "data": {
      "text/html": [
       "<div>\n",
       "<style scoped>\n",
       "    .dataframe tbody tr th:only-of-type {\n",
       "        vertical-align: middle;\n",
       "    }\n",
       "\n",
       "    .dataframe tbody tr th {\n",
       "        vertical-align: top;\n",
       "    }\n",
       "\n",
       "    .dataframe thead th {\n",
       "        text-align: right;\n",
       "    }\n",
       "</style>\n",
       "<table border=\"1\" class=\"dataframe\">\n",
       "  <thead>\n",
       "    <tr style=\"text-align: right;\">\n",
       "      <th></th>\n",
       "      <th>flight_number</th>\n",
       "      <th>departure_airport</th>\n",
       "      <th>arrival_airport</th>\n",
       "      <th>departure_date</th>\n",
       "      <th>departure_time</th>\n",
       "      <th>arrival_date</th>\n",
       "      <th>arrival_time</th>\n",
       "      <th>duration</th>\n",
       "      <th>airline</th>\n",
       "      <th>price</th>\n",
       "    </tr>\n",
       "  </thead>\n",
       "  <tbody>\n",
       "    <tr>\n",
       "      <th>0</th>\n",
       "      <td>9210</td>\n",
       "      <td>JZH</td>\n",
       "      <td>SKC</td>\n",
       "      <td>3/16/2022</td>\n",
       "      <td>12:10 PM</td>\n",
       "      <td>9/23/2021</td>\n",
       "      <td>12:51 AM</td>\n",
       "      <td>6.84</td>\n",
       "      <td>Air France</td>\n",
       "      <td>68.02</td>\n",
       "    </tr>\n",
       "    <tr>\n",
       "      <th>1</th>\n",
       "      <td>1845</td>\n",
       "      <td>BNT</td>\n",
       "      <td>BMF</td>\n",
       "      <td>8/4/2022</td>\n",
       "      <td>12:21 AM</td>\n",
       "      <td>10/25/2021</td>\n",
       "      <td>1:22 AM</td>\n",
       "      <td>6.12</td>\n",
       "      <td>Delta</td>\n",
       "      <td>279.96</td>\n",
       "    </tr>\n",
       "    <tr>\n",
       "      <th>2</th>\n",
       "      <td>8694</td>\n",
       "      <td>EIN</td>\n",
       "      <td>TGZ</td>\n",
       "      <td>6/11/2021</td>\n",
       "      <td>11:54 PM</td>\n",
       "      <td>8/26/2022</td>\n",
       "      <td>9:36 AM</td>\n",
       "      <td>16.66</td>\n",
       "      <td>Delta</td>\n",
       "      <td>614.39</td>\n",
       "    </tr>\n",
       "    <tr>\n",
       "      <th>3</th>\n",
       "      <td>2167</td>\n",
       "      <td>NaN</td>\n",
       "      <td>NNL</td>\n",
       "      <td>11/7/2021</td>\n",
       "      <td>NaN</td>\n",
       "      <td>8/24/2021</td>\n",
       "      <td>6:34 PM</td>\n",
       "      <td>12.01</td>\n",
       "      <td>Southwest</td>\n",
       "      <td>735.86</td>\n",
       "    </tr>\n",
       "    <tr>\n",
       "      <th>4</th>\n",
       "      <td>2779</td>\n",
       "      <td>KNG</td>\n",
       "      <td>DRR</td>\n",
       "      <td>7/3/2022</td>\n",
       "      <td>NaN</td>\n",
       "      <td>6/6/2021</td>\n",
       "      <td>3:17 PM</td>\n",
       "      <td>22.04</td>\n",
       "      <td>Southwest</td>\n",
       "      <td>881.59</td>\n",
       "    </tr>\n",
       "  </tbody>\n",
       "</table>\n",
       "</div>"
      ],
      "text/plain": [
       "  flight_number departure_airport arrival_airport departure_date  \\\n",
       "0          9210               JZH             SKC      3/16/2022   \n",
       "1          1845               BNT             BMF       8/4/2022   \n",
       "2          8694               EIN             TGZ      6/11/2021   \n",
       "3          2167               NaN             NNL      11/7/2021   \n",
       "4          2779               KNG             DRR       7/3/2022   \n",
       "\n",
       "  departure_time arrival_date arrival_time duration     airline   price  \n",
       "0       12:10 PM    9/23/2021     12:51 AM     6.84  Air France   68.02  \n",
       "1       12:21 AM   10/25/2021      1:22 AM     6.12       Delta  279.96  \n",
       "2       11:54 PM    8/26/2022      9:36 AM    16.66       Delta  614.39  \n",
       "3            NaN    8/24/2021      6:34 PM    12.01   Southwest  735.86  \n",
       "4            NaN     6/6/2021      3:17 PM    22.04   Southwest  881.59  "
      ]
     },
     "execution_count": 5,
     "metadata": {},
     "output_type": "execute_result"
    }
   ],
   "source": [
    "# Importando a base de dados\n",
    "dados = pd.read_csv('MOCK_DATA.csv', sep=',')\n",
    "dados.head()"
   ]
  },
  {
   "cell_type": "code",
   "execution_count": 7,
   "metadata": {},
   "outputs": [
    {
     "name": "stdout",
     "output_type": "stream",
     "text": [
      "<class 'pandas.core.frame.DataFrame'>\n",
      "RangeIndex: 1000 entries, 0 to 999\n",
      "Data columns (total 10 columns):\n",
      " #   Column             Non-Null Count  Dtype \n",
      "---  ------             --------------  ----- \n",
      " 0   flight_number      962 non-null    object\n",
      " 1   departure_airport  956 non-null    object\n",
      " 2   arrival_airport    939 non-null    object\n",
      " 3   departure_date     952 non-null    object\n",
      " 4   departure_time     928 non-null    object\n",
      " 5   arrival_date       967 non-null    object\n",
      " 6   arrival_time       975 non-null    object\n",
      " 7   duration           969 non-null    object\n",
      " 8   airline            968 non-null    object\n",
      " 9   price              930 non-null    object\n",
      "dtypes: object(10)\n",
      "memory usage: 78.3+ KB\n"
     ]
    }
   ],
   "source": [
    "# Analisando as informações\n",
    "dados.info()"
   ]
  },
  {
   "cell_type": "code",
   "execution_count": null,
   "metadata": {},
   "outputs": [],
   "source": []
  }
 ],
 "metadata": {
  "kernelspec": {
   "display_name": "Python 3",
   "language": "python",
   "name": "python3"
  },
  "language_info": {
   "codemirror_mode": {
    "name": "ipython",
    "version": 3
   },
   "file_extension": ".py",
   "mimetype": "text/x-python",
   "name": "python",
   "nbconvert_exporter": "python",
   "pygments_lexer": "ipython3",
   "version": "3.12.0"
  }
 },
 "nbformat": 4,
 "nbformat_minor": 2
}
